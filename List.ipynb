{
  "nbformat": 4,
  "nbformat_minor": 0,
  "metadata": {
    "colab": {
      "provenance": [],
      "authorship_tag": "ABX9TyONQpXwNZZk7Cy92xm5FfiZ",
      "include_colab_link": true
    },
    "kernelspec": {
      "name": "python3",
      "display_name": "Python 3"
    },
    "language_info": {
      "name": "python"
    }
  },
  "cells": [
    {
      "cell_type": "markdown",
      "metadata": {
        "id": "view-in-github",
        "colab_type": "text"
      },
      "source": [
        "<a href=\"https://colab.research.google.com/github/mksharma282000/Python/blob/main/List.ipynb\" target=\"_parent\"><img src=\"https://colab.research.google.com/assets/colab-badge.svg\" alt=\"Open In Colab\"/></a>"
      ]
    },
    {
      "cell_type": "markdown",
      "source": [
        "# Understanding Lists in Python\n",
        "\n",
        "## What is a List?\n",
        "\n",
        "  *** List in Python is:***\n",
        "\n",
        "- **A fundamental data structure.**\n",
        "- **Stores an ordered collection of items** (numbers, strings, booleans, or even other lists).\n",
        "- **Can modify their content after creation** (add, remove, or change elements within a list).\n",
        "- **Enclosed in square brackets**, with commas separating the elements.\n",
        "\n",
        "**Creating List**\n",
        "  ### A. Empty list\n",
        "    empty_list = []\n",
        "\n",
        "### B. List with elements\n",
        "    fruits_list = [\"apple\", \"banana\", \"orange\"]\n",
        "\n",
        "### C. List with different data types\n",
        "    mixed_list = [10, 3.14, True, \"hello\"]\n"
      ],
      "metadata": {
        "id": "Ucy711CvLopU"
      }
    },
    {
      "cell_type": "markdown",
      "source": [
        "# List Operations in Python\n",
        "\n",
        "## Common List Operations\n",
        "\n",
        "1. **Adding Elements**\n",
        "\n",
        "   A. **Using `append()`:** Adds a single element to the end of the list.\n",
        "   ```python\n",
        "   fruits_list = [\"apple\", \"banana\", \"orange\"]\n",
        "   fruits_list.append(\"grape\")\n",
        "   print(fruits_list)  # Output: [\"apple\", \"banana\", \"orange\", \"grape\"]\n",
        "     ```\n",
        "\n",
        "   B. **Using `extend()`:** Adds multiple elements to the end of the list.\n",
        "   ```python\n",
        "fruits_list.extend([\"cherry\", \"pear\"])\n",
        "print(fruits_list)  # Output: [\"apple\", \"banana\", \"orange\", \"grape\", \"cherry\", \"pear\"]\n",
        "    ```\n",
        "\n",
        "   C. **Using `insert()`:** Inserts an element at a specified position.\n",
        "   ```python\n",
        "   fruits_list.insert(1, \"kiwi\")\n",
        "   print(fruits_list)  # Output: [\"apple\", \"kiwi\", \"banana\", \"orange\", \"grape\", \"cherry\", \"pear\"]\n",
        "\n",
        "\n",
        "2. **Removing Elements**\n",
        "\n",
        "   A. **Using `remove()`:** Removes the first occurrence of a specified element.\n",
        "   ```python\n",
        "   fruits_list.remove(\"banana\")\n",
        "   print(fruits_list)  # Output: [\"apple\", \"kiwi\", \"orange\", \"grape\", \"cherry\", \"pear\"]\n",
        "   ```\n",
        "   B. **Using `pop()`:** Removes and returns the element at a specified position (or the last element if no position is specified).\n",
        "   ```python\n",
        "   popped_item = fruits_list.pop(2)\n",
        "   print(popped_item)  # Output: \"orange\"\n",
        "   print(fruits_list)  # Output: [\"apple\", \"kiwi\", \"grape\", \"cherry\", \"pear\"]\n",
        "   ```\n",
        "\n",
        "   C. **Using `clear()`:** Removes all elements from the list.\n",
        "   ```python\n",
        "   fruits_list.clear()\n",
        "   print(fruits_list)  # Output: []```\n",
        "\n",
        "3. **Accessing Elements**\n",
        "\n",
        "   A. **Indexing:** Access individual elements using their index.\n",
        "   ```python\n",
        "   fruits_list = [\"apple\", \"banana\", \"orange\"]\n",
        "   print(fruits_list[1])  # Output: \"banana\"\n",
        "   ```\n",
        "  B. **Slicing:** Access a range of elements.\n",
        "   ```python\n",
        "   print(fruits_list[1:3])  # Output: [\"banana\", \"orange\"]\n",
        "   ```\n",
        "4. **Modifying Elements**\n",
        "\n",
        "   A. **Assigning a new value:** Assigning a new value to an element at a specific index.\n",
        "   ```python\n",
        "   fruits_list[1] = \"kiwi\"\n",
        "   print(fruits_list)  # Output: [\"apple\", \"kiwi\", \"orange\"]\n",
        "   ```\n",
        "5. **Other Useful List Methods**\n",
        "\n",
        "   A. **index():** Returns the index of the first occurrence of a specified element.\n",
        "   ```python\n",
        "   index = fruits_list.index(\"orange\")\n",
        "   print(index)  # Output: 2\n",
        "  ```\n",
        "  B. **count():** Returns the number of occurrences of a specified element.\n",
        "   ```python\n",
        "  count = fruits_list.count(\"apple\")\n",
        "  print(count)  # Output: 1\n",
        "  ```\n",
        "  C. **sort():** Sorts the list in ascending order.\n",
        "   ```python\n",
        "   fruits_list.sort()\n",
        "   print(fruits_list)  # Output: [\"apple\", \"kiwi\", \"orange\"]\n",
        "   ```\n",
        "  D. **reverse():** Reverses the order of the list.\n",
        "```python\n",
        "fruits_list.reverse()\n",
        "print(fruits_list)  # Output: [\"orange\", \"kiwi\", \"apple\"]\n",
        "```\n",
        "   \n",
        "\n",
        "\n",
        "\n",
        "\n",
        "\n",
        "\n",
        "    \n",
        "\n",
        "\n",
        "\n",
        "\n",
        "\n",
        "\n",
        "\n"
      ],
      "metadata": {
        "id": "T8BlzMfN8QaW"
      }
    },
    {
      "cell_type": "code",
      "source": [
        "# Print the length of the list\n",
        "list1 = [2, 3, 4, 5, 6]\n",
        "a= len(list1)\n",
        "print(\"Length of the list is \"+str(a))"
      ],
      "metadata": {
        "id": "QRNDu3B9Aom9"
      },
      "execution_count": null,
      "outputs": []
    },
    {
      "cell_type": "code",
      "source": [
        "\n",
        "# Print the element on the given index\n",
        "list1 = [2, 3, 4, 5, 6]\n",
        "index=2\n",
        "element=list1[index]\n",
        "print(\"The element on the index \"+str(index)+\" is \"+str(list1[index]))"
      ],
      "metadata": {
        "id": "kV2jcTW4AuR3"
      },
      "execution_count": null,
      "outputs": []
    },
    {
      "cell_type": "code",
      "source": [
        "# Print the element on the index 0\n",
        "print(list1[0])"
      ],
      "metadata": {
        "id": "n-OO4oWsAuPk"
      },
      "execution_count": null,
      "outputs": []
    },
    {
      "cell_type": "code",
      "source": [
        "# Given a list as input, print the sum of the multiples of 3 in the list\n",
        "list1=[10,20,30,40,50,60]\n",
        "sum=0\n",
        "for i in range(0,len(list1)):\n",
        "  if list1[i]%3==0:\n",
        "    sum+=list1[i]\n",
        "print(\"Sum of Multiples of 3 is \"+str(sum))"
      ],
      "metadata": {
        "id": "CZgRwlguAuNK"
      },
      "execution_count": null,
      "outputs": []
    },
    {
      "cell_type": "code",
      "source": [
        "# Given a list as input, print the sum of the even and odd numbers in the list\n",
        "list1=[10,20,30,40,50,60,5,15,25,35]\n",
        "even=0\n",
        "odd=0\n",
        "for i in range(0,len(list1)):\n",
        "  if list1[i]%2==0:\n",
        "    even+=list1[i]\n",
        "  else:\n",
        "    odd+=list1[i]\n",
        "print(\"Sum of even numbers is \"+str(even))\n",
        "print(\"Sum of odd numbers is \"+str(odd))"
      ],
      "metadata": {
        "id": "ceSbMqt9AuKs"
      },
      "execution_count": null,
      "outputs": []
    },
    {
      "cell_type": "code",
      "source": [
        "# Given a list as input, find the smallest number in the list.\n",
        "list1=[2,3,4,5,6,7,-1,-5,67]\n",
        "smallest=list1[0]\n",
        "for i in range(0,len(list1)):\n",
        "    if smallest>list1[i]:\n",
        "       smallest=list1[i]\n",
        "print(smallest)"
      ],
      "metadata": {
        "id": "2CxFygwsAuH8"
      },
      "execution_count": null,
      "outputs": []
    },
    {
      "cell_type": "code",
      "source": [
        "# Given a list as input, print the sum of adjacent numbers in the list. For e.g. if the listis [2,7,15,5], the adjacent sums are 9(i.e. 2+7), 22(i.e. 7+15) and 20(i.e. 15+5).\n",
        "\n",
        "list1=[2,4,6,8,10]\n",
        "sum=0;\n",
        "newlist=\"\"\n",
        "for i in range(1,len(list1)):\n",
        "  sum=list1[i-1]+list1[i]\n",
        "  newlist=str(newlist)+str(sum)+','\n",
        "print(newlist)"
      ],
      "metadata": {
        "id": "9QXHUeVhAuDM"
      },
      "execution_count": null,
      "outputs": []
    },
    {
      "cell_type": "code",
      "source": [
        "# Given a list and a number as input, append the number to the list. Print the modified list.\n",
        "list1=[1,2,3,4]\n",
        "num=5\n",
        "list1.append(5)\n",
        "print(\"After append the number:\"+str(list1))"
      ],
      "metadata": {
        "id": "C102nza-At6j"
      },
      "execution_count": null,
      "outputs": []
    },
    {
      "cell_type": "code",
      "source": [
        "# Given a list and a number as input, append the numberand its squareto the list. Print the modified list\n",
        "list1=[1,2,3,4]\n",
        "num=5\n",
        "sq=num*num\n",
        "list1.append(5)\n",
        "list1.append(sq)\n",
        "print(\"After append the number and the square of the number is:\"+str(list1))"
      ],
      "metadata": {
        "id": "5pn9bnaXA4OS"
      },
      "execution_count": null,
      "outputs": []
    },
    {
      "cell_type": "code",
      "source": [
        "# Given a list, create a new list in which each number appears twice as shown. Print the new list\n",
        "list1=[1,2,3,4]\n",
        "newlist=[]\n",
        "for i in range(0,len(list1)):\n",
        "  newlist.append(list1[i])\n",
        "  newlist.append(list1[i])\n",
        "print(\"Each number of list1 appears twice:\"+str(newlist))"
      ],
      "metadata": {
        "id": "sqpcPbYTA4L3"
      },
      "execution_count": null,
      "outputs": []
    },
    {
      "cell_type": "code",
      "source": [
        "# Given a list as input, remove the elements at index 0,2 and 4.Print the modified list.\n",
        "list1=[5,6,7,8,9,10]\n",
        "for i in reversed (range(len(list1))):\n",
        "  if i in (0,2,4):\n",
        "   del list1[i]\n",
        "print(\"After remove the elements at index 0,2 and 4 :\"+str(list1))"
      ],
      "metadata": {
        "id": "w_ZFgAG7A4JW"
      },
      "execution_count": null,
      "outputs": []
    },
    {
      "cell_type": "code",
      "source": [
        "# Given a list, print the elements of the list in reverse order. Note that in this task no new list has to be created or any change done to the existing list.\n",
        "# Only the elements have to be printed in reverse oder\n",
        "list1=[1,2,3,4,5]\n",
        "for i in reversed (range(len(list1))):\n",
        "  x=list1[i]\n",
        "  del list1[i]\n",
        "  list1.append(x)\n",
        "print(list1)\n"
      ],
      "metadata": {
        "id": "TkXW-34lA4Gu"
      },
      "execution_count": null,
      "outputs": []
    },
    {
      "cell_type": "code",
      "source": [
        "# Given a list, create a new list in which the order of the elements is in reverse.Print the new list\n",
        "list1=[1,2,3,4,5]\n",
        "newlist=[]\n",
        "for i in reversed (range(len(list1))):\n",
        "    newlist.append(list1[i])\n",
        "print(newlist)"
      ],
      "metadata": {
        "id": "x0bc6ZenA4EG"
      },
      "execution_count": null,
      "outputs": []
    },
    {
      "cell_type": "code",
      "source": [
        "# Given a list, create a new list in which the even numbers appear in front and the odd numbers at the end. of the numbers greater than 10 in the input list. Print the new list.\n",
        "list1=[1,8,25,9,15,62,4]\n",
        "newlist=[]\n",
        "for i in range(0,len(list1)):\n",
        "  if(list1[i]%2==0):\n",
        "    newlist.append(list1[i])\n",
        "for i in range(0,len(list1)):\n",
        "  if(list1[i]%2!=0):\n",
        "    newlist.append(list1[i])\n",
        "print(newlist)"
      ],
      "metadata": {
        "id": "JPIZxw7cBCRH"
      },
      "execution_count": null,
      "outputs": []
    },
    {
      "cell_type": "code",
      "source": [
        "# Given a list of string as input, print all the strings and their length.\n",
        "list1=[\"D\",\"E\",\"FG\",\"HIJK\"]\n",
        "s1=\"\"\n",
        "for i in range(0,len(list1)):\n",
        "  s1=list1[i]\n",
        "  length=len(s1)\n",
        "  print(str(s1)+\"#\"+str(length))"
      ],
      "metadata": {
        "id": "MZS-o4qsBCO6"
      },
      "execution_count": null,
      "outputs": []
    },
    {
      "cell_type": "code",
      "source": [
        "# Given a string as input, create a list consisting of the characters in the string. Print the list.\n",
        "s1=\"MohitKumar\"\n",
        "list1=[]\n",
        "for i in range(0,len(s1)):\n",
        "  list1.append(s1[i])\n",
        "print(list1)"
      ],
      "metadata": {
        "id": "kCLK6FSqBCMW"
      },
      "execution_count": null,
      "outputs": []
    },
    {
      "cell_type": "code",
      "source": [
        "# Given a string as input, create a list as shown. Print the list \"123\"  as   [\"1\",\"12\",\"123\"]\n",
        "\n",
        "string=\"123\"\n",
        "list1=[]\n",
        "a=\"\"\n",
        "for i in range(0,len(string)):\n",
        "  a=a+string[i]\n",
        "  list1.append(a)\n",
        "print(list1)"
      ],
      "metadata": {
        "id": "f1oh7JjPBCKC"
      },
      "execution_count": null,
      "outputs": []
    },
    {
      "cell_type": "code",
      "source": [
        "# Given a string as input, create a list consisting of the uppercase characters in the string. Print the list\n",
        "string=\"EDUFECT#Institue\"\n",
        "list1=[]\n",
        "for i in range(0,len(string)):\n",
        "  if \"A\"<=string[i]  <=\"Z\" :\n",
        "    list1.append(string[i])\n",
        "print(list1)"
      ],
      "metadata": {
        "id": "raXBCQt2BCHh"
      },
      "execution_count": null,
      "outputs": []
    }
  ]
}