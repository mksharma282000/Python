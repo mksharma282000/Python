{
  "nbformat": 4,
  "nbformat_minor": 0,
  "metadata": {
    "colab": {
      "provenance": [],
      "authorship_tag": "ABX9TyOWEfMFvUBSu+T5xj1WWYUq",
      "include_colab_link": true
    },
    "kernelspec": {
      "name": "python3",
      "display_name": "Python 3"
    },
    "language_info": {
      "name": "python"
    }
  },
  "cells": [
    {
      "cell_type": "markdown",
      "metadata": {
        "id": "view-in-github",
        "colab_type": "text"
      },
      "source": [
        "<a href=\"https://colab.research.google.com/github/mksharma282000/Python/blob/main/day1.ipynb\" target=\"_parent\"><img src=\"https://colab.research.google.com/assets/colab-badge.svg\" alt=\"Open In Colab\"/></a>"
      ]
    },
    {
      "cell_type": "markdown",
      "source": [
        "# What is Python and its Environment?\n",
        "\n",
        "## Python:\n",
        "- **Easy-to-use**, general-purpose programming language.\n",
        "- **Interpreted**: Code runs line by line, no compilation needed.\n",
        "- **Rich standard library**: Built-in modules for common tasks.\n",
        "\n",
        "___\n",
        "\n",
        "## Benefits:\n",
        "- Easy to understand\n",
        "- Free & Open Source\n",
        "\n",
        "___\n",
        "\n",
        "## Some useful libraries of Python:\n",
        "1. **Django**: A high-level web framework for rapid development.\n",
        "2. **Flask**: A micro web framework written in Python.\n",
        "3. **Numpy**: Large, multi-dimensional array & matrices.\n",
        "4. **SciPy**: Toolbox for scientific computing library that focuses on numerical computations and data analysis.\n",
        "5. **Bokeh**: Visualization library using web browser for presentation.\n",
        "6. **Apache Spark**: For big data analytics.\n"
      ],
      "metadata": {
        "id": "_FxfRqnnxxVY"
      }
    },
    {
      "cell_type": "code",
      "source": [
        "# Taking Input in Python\n",
        "\n",
        "fruits=input(\"Name of the fruit\")\n",
        "cnt=input(\"Quantity of the fruit\")\n",
        "print(\"Give me \" + cnt +\" \"+fruits )"
      ],
      "metadata": {
        "colab": {
          "base_uri": "https://localhost:8080/"
        },
        "id": "Q_KpTSIdx5lW",
        "outputId": "bfa8ea9f-e33d-4ba6-99e0-16a0431840c6"
      },
      "execution_count": null,
      "outputs": [
        {
          "output_type": "stream",
          "name": "stdout",
          "text": [
            "Name of the fruitApple\n",
            "Quantity of the fruit2Kg\n",
            "Give me 2Kg Apple\n"
          ]
        }
      ]
    },
    {
      "cell_type": "code",
      "source": [
        "#Data Types, Variables, Assignments and Print\n",
        "\n",
        "#Print: integer\n",
        "marks=10\n",
        "print(marks)\n",
        "\n",
        "# Print: string\n",
        "name=\"Mohit\"\n",
        "print(name)\n",
        "\n",
        "# Print: Sum of Two Number\n",
        "num1=10\n",
        "num2=20\n",
        "num3=num1+num2\n",
        "print(num3)\n",
        "\n",
        "# Print: Concatination of two strings\n",
        "Str1=(\"Mohit\")\n",
        "Str2=(\"Sharma\")\n",
        "Str3=Str1+Str2\n",
        "print(Str3)\n",
        "\n",
        "# Print: Integer with String\n",
        "\n",
        "marks=10\n",
        "name=(\"Mohit Kumar\")\n",
        "Result=name+\" = \"+str(marks)\n",
        "print(Result)\n"
      ],
      "metadata": {
        "colab": {
          "base_uri": "https://localhost:8080/"
        },
        "collapsed": true,
        "id": "u1qWFIBH17LJ",
        "outputId": "ed466106-796b-42c1-d678-fda21da9548a"
      },
      "execution_count": null,
      "outputs": [
        {
          "output_type": "stream",
          "name": "stdout",
          "text": [
            "10\n",
            "Mohit\n",
            "30\n",
            "MohitSharma\n",
            "Mohit Kumar = 10\n"
          ]
        }
      ]
    },
    {
      "cell_type": "code",
      "source": [
        "# Some more problems\n",
        "\n",
        "# Program 1\n",
        "x=2;\n",
        "print(x)\n",
        "\n",
        "x=3\n",
        "print(x)\n",
        "\n",
        "x=x+3\n",
        "print(x)\n",
        "\n",
        "x=x*2\n",
        "print(x)\n",
        "\n",
        "# Program 2\n",
        "d = 25\n",
        "d = d+2\n",
        "d = d*2\n",
        "print (d)\n",
        "d = d + 20\n",
        "print (d)\n",
        "\n",
        "# Program 3\n",
        "a =3\n",
        "b = a*a\n",
        "c = a*a*a\n",
        "s1 = \"Num=\"+str(a)+\" Square=\"+str(b)+\" Cube=\"+str(c)\n",
        "print (s1)\n",
        "s2 = str(a)+\"::\"+str(b)+\"::\"+str(c)\n",
        "print (s2)\n",
        "\n",
        "# Program 4\n",
        "x = 7\n",
        "y = 3\n",
        "z = x * y\n",
        "s1 = \"Mult::\"+str(x)+\"*\"+str(y)+\"=\"+str(z)\n",
        "print (s1)\n"
      ],
      "metadata": {
        "colab": {
          "base_uri": "https://localhost:8080/"
        },
        "id": "JJ8kz5dIIQWo",
        "outputId": "c2255519-836e-4333-c088-2383133de4ad"
      },
      "execution_count": null,
      "outputs": [
        {
          "output_type": "stream",
          "name": "stdout",
          "text": [
            "2\n",
            "3\n",
            "6\n",
            "12\n",
            "54\n",
            "74\n",
            "Num=3 Square=9 Cube=27\n",
            "3::9::27\n"
          ]
        }
      ]
    },
    {
      "cell_type": "markdown",
      "source": [
        "# If-Else Statement in Python\n",
        "\n",
        "## Definition:\n",
        "The `if-else` statement is a conditional statement that allows you to execute a block of code if a condition is `TRUE`. If the condition is `FALSE`, the code in the `else` block is executed.\n",
        "\n",
        "## Syntax:\n",
        "```python\n",
        "if condition:\n",
        "    # Code to execute when the condition is true\n",
        "else:\n",
        "    # Code to execute when the condition is false\n"
      ],
      "metadata": {
        "id": "1BusBjVqx_fT"
      }
    },
    {
      "cell_type": "code",
      "source": [
        "\n",
        "\n",
        "# Task 1 : Given an integer n, print Negative if n is negative and Non-Negative otherwise\n",
        "\n",
        "n=-15\n",
        "if n>0:\n",
        "  print(\"Non-Negative\")\n",
        "else:\n",
        "  print(\"Negative\")\n",
        "\n",
        "\n",
        "\n",
        "# Task 2 : Given an integer n,print the square of n if n is even, otherwise print the cube of n\n",
        "\n",
        "n=3\n",
        "if n%2==0:\n",
        "  print(n*n)\n",
        "else:\n",
        "  print(n*n*n)\n",
        "\n",
        "\n",
        "\n",
        "# Task 3 : Given an integer n, print its absolute value as given below\n",
        "\n",
        "n=-155\n",
        "if n<0:\n",
        "  a=n*(-1)\n",
        "  print(a)\n",
        "else:\n",
        "  print(n)\n",
        "\n",
        "\n",
        "\n",
        "# Task 4 : Given an integern, for the numbers from 1 to n, print iOS ifthe number is divisible by 3 and Android otherwise\n",
        "\n",
        "n=5\n",
        "for i in range(1,n+1):\n",
        "  if(i%3==0):\n",
        "    print('ios')\n",
        "  else:\n",
        "    print(\"Android\")\n",
        "\n",
        "\n",
        "\n",
        "# Task 5 : Given an integern, print the following pattern\n",
        "#       Square of 1 = 1 :: Odd\n",
        "#       Square of 2 = 4 :: Even\n",
        "#       Square of 3 = 9 :: Odd\n",
        "#       Square of 4 = 16 :: Even\n",
        "#       Square of 5 = 25 :: Odd\n",
        "\n",
        "n=5\n",
        "for i in range(1,n+1):\n",
        "  sq=i*i\n",
        "  if(i%2==0):\n",
        "    b = \"Square of \" + str(i) + \" = \" + str(sq) + \" :: Even\"\n",
        "    print(b)\n",
        "  else:\n",
        "    b = \"Square of \" + str(i) + \" = \" + str(sq) + \" :: Odd\"\n",
        "    print(b)\n",
        "\n",
        "\n",
        "\n",
        "# Task 6 : Given an integern, print the following pattern\n",
        "#       A\n",
        "#       AB\n",
        "#       ABA\n",
        "#       ABAB\n",
        "#       ABABA\n",
        "\n",
        "n=5\n",
        "a=\"\";\n",
        "for i in range(1,n+1):\n",
        "  if i%2!=0:\n",
        "   a=a+\"A\"\n",
        "   print(a)\n",
        "  else:\n",
        "   a=a+\"B\"\n",
        "   print(a)\n",
        "\n",
        "\n"
      ],
      "metadata": {
        "id": "U8N2qyQVrBTA",
        "colab": {
          "base_uri": "https://localhost:8080/"
        },
        "outputId": "df378bcb-1661-4698-82fb-c0b6b622c0f6"
      },
      "execution_count": null,
      "outputs": [
        {
          "output_type": "stream",
          "name": "stdout",
          "text": [
            "Negative\n",
            "27\n",
            "155\n",
            "Android\n",
            "Android\n",
            "ios\n",
            "Android\n",
            "Android\n",
            "Square of 1 = 1 :: Odd\n",
            "Square of 2 = 4 :: Even\n",
            "Square of 3 = 9 :: Odd\n",
            "Square of 4 = 16 :: Even\n",
            "Square of 5 = 25 :: Odd\n",
            "A\n",
            "AB\n",
            "ABA\n",
            "ABAB\n",
            "ABABA\n"
          ]
        }
      ]
    },
    {
      "cell_type": "markdown",
      "source": [
        "# For Loop in Python\n",
        "\n",
        "## Definition:\n",
        "If we want to perform a particular task multiple times, we use a `for` loop.\n",
        "\n",
        "## Syntax:\n",
        "```python\n",
        "for i in range(start, finish):\n",
        "    # statement(s) inside the loop\n",
        "# statement(s) after the loop\n"
      ],
      "metadata": {
        "id": "xQsKKu4VzNOq"
      }
    },
    {
      "cell_type": "code",
      "source": [
        "\n",
        "\n",
        "#Task 1 : What will be printed on the screen for i in range(1,4):print(i)\n",
        "\n",
        "for i in range(1,4):\n",
        "  print(i)\n",
        "\n",
        "\n",
        "\n",
        "# Task 2 : Write a code using for loop which will print the first 6 multiples of 5.\n",
        "\n",
        "print(\"First 6 multiples of 5 are\")\n",
        "for i in range(1,7):\n",
        "  i=i*5\n",
        "  print(i)\n",
        "\n",
        "\n",
        "\n",
        "# Task 3 : Write a code using for loop which will print the output below\n",
        "#      Hello#1\n",
        "#      Hello#2\n",
        "#      Hello#3\n",
        "#      Hello#4\n",
        "#      Hello#5\n",
        "\n",
        "for i in range(1,6):\n",
        "  a=(\"Hello#\"+str(i))\n",
        "  print(a)\n",
        "\n",
        "\n",
        "\n",
        "# Task 4 : Write a code using for loop which will print the cubes of 1,2,3 and 4 in the manner shown below.\n",
        "#      Cube of 2=8\n",
        "\n",
        "for i in range(1,5):\n",
        "  a=i*i*i\n",
        "  b=\"Cube of \"+str(i)+\" = \"+str(a)\n",
        "  print(b)\n",
        "\n",
        "\n",
        "\n",
        "# Task 5 : Write a code using for loop which will give the following output\n",
        "\n",
        "#      X1\n",
        "#      X1X2\n",
        "#      X1X2X3\n",
        "#      X1X2X3X4\n",
        "a=\"\";\n",
        "for i in range(1,5):\n",
        "  a=a+\"X\"+str(i)\n",
        "  print(a)\n",
        "\n",
        "\n",
        "\n",
        "# Task 6 : Write a code using for loop for table of 4 in this format\n",
        "#     4*1=4\n",
        "\n",
        "for i in range(1,11):\n",
        "  b=4*i\n",
        "  a=\"4*\"+str(i)+\"=\"+str(b)\n",
        "  print(a)"
      ],
      "metadata": {
        "colab": {
          "base_uri": "https://localhost:8080/"
        },
        "id": "l32itqrNKcH5",
        "outputId": "10c01e2a-062d-40cd-aac2-8bc4930dbf32"
      },
      "execution_count": null,
      "outputs": [
        {
          "output_type": "stream",
          "name": "stdout",
          "text": [
            "1\n",
            "2\n",
            "3\n",
            "First 6 multiples of 5 are\n",
            "5\n",
            "10\n",
            "15\n",
            "20\n",
            "25\n",
            "30\n",
            "Hello#1\n",
            "Hello#2\n",
            "Hello#3\n",
            "Hello#4\n",
            "Hello#5\n",
            "Cube of 1 = 1\n",
            "Cube of 2 = 8\n",
            "Cube of 3 = 27\n",
            "Cube of 4 = 64\n",
            "X1\n",
            "X1X2\n",
            "X1X2X3\n",
            "X1X2X3X4\n",
            "4*1=4\n",
            "4*2=8\n",
            "4*3=12\n",
            "4*4=16\n",
            "4*5=20\n",
            "4*6=24\n",
            "4*7=28\n",
            "4*8=32\n",
            "4*9=36\n",
            "4*10=40\n"
          ]
        }
      ]
    }
  ]
}